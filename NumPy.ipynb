{
 "cells": [
  {
   "cell_type": "code",
   "execution_count": 3,
   "metadata": {},
   "outputs": [],
   "source": [
    "#NumPy - Numerical Python \n",
    "#It is used for the computational purpose (mathematical & logical operations) of multidimensional arrays.\n",
    "#Numarray - additional functionalities"
   ]
  },
  {
   "cell_type": "code",
   "execution_count": 4,
   "metadata": {},
   "outputs": [],
   "source": [
    " import numpy as np"
   ]
  },
  {
   "cell_type": "code",
   "execution_count": 5,
   "metadata": {},
   "outputs": [
    {
     "name": "stdout",
     "output_type": "stream",
     "text": [
      "[1 2]\n",
      "<class 'numpy.ndarray'>\n"
     ]
    }
   ],
   "source": [
    "#creating an array\n",
    "#ndarray - stores the data continuously in the memory either row major order or column major order.\n",
    "#python array - blocks ->address -->data\n",
    "#ndarray - data\n",
    "a = np.array ([1,2])\n",
    "print(a)\n",
    "print(type(a))"
   ]
  },
  {
   "cell_type": "code",
   "execution_count": 6,
   "metadata": {},
   "outputs": [
    {
     "name": "stdout",
     "output_type": "stream",
     "text": [
      "[[1 2]\n",
      " [3 4]]\n"
     ]
    }
   ],
   "source": [
    "#row major order - 1,2,3,4\n",
    "#column major order - 1,3,2,4\n",
    "b = np.array ([[1,2],[3,4]])\n",
    "print(b)"
   ]
  },
  {
   "cell_type": "code",
   "execution_count": 7,
   "metadata": {},
   "outputs": [
    {
     "name": "stdout",
     "output_type": "stream",
     "text": [
      "[1. 2. 3.]\n"
     ]
    }
   ],
   "source": [
    "c=np.array ([1,2,3], dtype=float)\n",
    "print(c)"
   ]
  },
  {
   "cell_type": "code",
   "execution_count": 8,
   "metadata": {},
   "outputs": [
    {
     "name": "stdout",
     "output_type": "stream",
     "text": [
      "2\n",
      "(2, 2)\n"
     ]
    }
   ],
   "source": [
    "#array attributes\n",
    "\n",
    "#ndim - number of axes\n",
    "print(b.ndim)\n",
    "#shape - it returns the dimensions in tuple\n",
    "print(b.shape)"
   ]
  },
  {
   "cell_type": "code",
   "execution_count": 9,
   "metadata": {},
   "outputs": [
    {
     "name": "stdout",
     "output_type": "stream",
     "text": [
      "(3, 2)\n",
      "[[1 2 4]\n",
      " [5 6 7]]\n"
     ]
    }
   ],
   "source": [
    "#reshape\n",
    "d= np.array([[1,2],[4,5],[6,7]])\n",
    "print(d.shape)\n",
    "print(d.reshape(2,3))"
   ]
  },
  {
   "cell_type": "code",
   "execution_count": 10,
   "metadata": {},
   "outputs": [
    {
     "name": "stdout",
     "output_type": "stream",
     "text": [
      "[[ 0  1  2  3  4  5  6  7  8  9]\n",
      " [10 11 12 13 14 15 16 17 18 19]]\n"
     ]
    }
   ],
   "source": [
    "a= np.arange (20)\n",
    "print(a.reshape(2,10))"
   ]
  },
  {
   "cell_type": "code",
   "execution_count": 11,
   "metadata": {},
   "outputs": [
    {
     "name": "stdout",
     "output_type": "stream",
     "text": [
      "[20 22 24 26 28]\n"
     ]
    }
   ],
   "source": [
    "a= np.arange(20, 30 , 2) #it will return evenly spaced values excluding end point\n",
    "print(a)"
   ]
  },
  {
   "cell_type": "code",
   "execution_count": 12,
   "metadata": {},
   "outputs": [
    {
     "name": "stdout",
     "output_type": "stream",
     "text": [
      "[1.    1.375 1.75  2.125 2.5   2.875 3.25  3.625 4.   ]\n"
     ]
    }
   ],
   "source": [
    "b= np.linspace(1, 4, 9) #it will return evenly spaced values incuding the end point\n",
    "print(b)"
   ]
  },
  {
   "cell_type": "code",
   "execution_count": 13,
   "metadata": {},
   "outputs": [
    {
     "name": "stdout",
     "output_type": "stream",
     "text": [
      "(3, 2)\n",
      "[[1 2 4]\n",
      " [5 6 7]]\n",
      "[[1 2]\n",
      " [4 5]\n",
      " [6 7]]\n",
      "(3, 2)\n",
      "[[1 2 4]\n",
      " [5 6 7]]\n"
     ]
    }
   ],
   "source": [
    "print(d.shape)\n",
    "print(d.reshape(2,3))\n",
    "print(d) #reshape doesn't affect the original array, it returns a newly created array\n",
    "print(d.shape)\n",
    "d.resize(2,3) #resize affects the original array\n",
    "print(d)"
   ]
  },
  {
   "cell_type": "code",
   "execution_count": 14,
   "metadata": {},
   "outputs": [
    {
     "name": "stdout",
     "output_type": "stream",
     "text": [
      "[[1 1]\n",
      " [1 1]\n",
      " [1 1]]\n",
      "[[0 0 0]\n",
      " [0 0 0]]\n",
      "[[1. 0. 0.]\n",
      " [0. 1. 0.]\n",
      " [0. 0. 1.]]\n",
      "[1 6]\n"
     ]
    }
   ],
   "source": [
    "print(np.ones((3,2), dtype=int))\n",
    "print(np.zeros ((2,3), dtype=int))\n",
    "print(np.eye(3))\n",
    "print(np.diag(d)) #extracts the diagonal elements and creates an array"
   ]
  },
  {
   "cell_type": "code",
   "execution_count": 15,
   "metadata": {},
   "outputs": [
    {
     "name": "stdout",
     "output_type": "stream",
     "text": [
      "[[1.73205081 2.23606798]\n",
      " [2.64575131 3.        ]]\n",
      "[[1.09861229 1.60943791]\n",
      " [1.94591015 2.19722458]]\n",
      "[[  20.08553692  148.4131591 ]\n",
      " [1096.63315843 8103.08392758]]\n",
      "2.23606797749979\n",
      "6.0\n",
      "24\n",
      "[[ 0.14112001 -0.95892427]\n",
      " [ 0.6569866   0.41211849]]\n"
     ]
    }
   ],
   "source": [
    "a = np.arange(3,10,2).reshape(2,2)\n",
    "print(np.sqrt(a))\n",
    "print(np.log(a))\n",
    "print(np.exp(a))\n",
    "print(np.std(a))\n",
    "print(np.mean(a))\n",
    "print(np.sum(a))\n",
    "print(np.sin(a))"
   ]
  },
  {
   "cell_type": "code",
   "execution_count": 16,
   "metadata": {},
   "outputs": [
    {
     "name": "stdout",
     "output_type": "stream",
     "text": [
      "[[ 0  1  2  3  4]\n",
      " [ 5  6  7  8  9]\n",
      " [10 11 12 13 14]\n",
      " [15 16 17 18 19]]\n",
      "7\n",
      "[2 3 4]\n",
      "[[2 3]\n",
      " [7 8]]\n"
     ]
    }
   ],
   "source": [
    "#Slicing\n",
    "\n",
    "a= np.arange(0,20).reshape(4,5)\n",
    "\n",
    "print(a)\n",
    "print (a[1,2])\n",
    "print (a [0, 2:5])\n",
    "print (a[ 0:2, 2:4])"
   ]
  },
  {
   "cell_type": "code",
   "execution_count": 37,
   "metadata": {},
   "outputs": [
    {
     "name": "stdout",
     "output_type": "stream",
     "text": [
      "[[20 22 24 26 28]\n",
      " [30 32 34 36 38]\n",
      " [40 42 44 46 48]\n",
      " [50 52 54 56 58]]\n",
      "[[-20 -20 -20 -20 -20]\n",
      " [-20 -20 -20 -20 -20]\n",
      " [-20 -20 -20 -20 -20]\n",
      " [-20 -20 -20 -20 -20]]\n",
      "[[0.         0.04761905 0.09090909 0.13043478 0.16666667]\n",
      " [0.2        0.23076923 0.25925926 0.28571429 0.31034483]\n",
      " [0.33333333 0.35483871 0.375      0.39393939 0.41176471]\n",
      " [0.42857143 0.44444444 0.45945946 0.47368421 0.48717949]]\n",
      "[[  0  21  44  69  96]\n",
      " [125 156 189 224 261]\n",
      " [300 341 384 429 476]\n",
      " [525 576 629 684 741]]\n"
     ]
    }
   ],
   "source": [
    "#Arithmetic operations on Numpy\n",
    "\n",
    "a= np.arange(0,20).reshape(4,5)\n",
    "b= np.arange(20,40).reshape(4,5)\n",
    "\n",
    "print(a+b)\n",
    "print(a-b)\n",
    "print(a/b)\n",
    "print(a*b)\n",
    "\n"
   ]
  },
  {
   "cell_type": "code",
   "execution_count": 48,
   "metadata": {},
   "outputs": [
    {
     "name": "stdout",
     "output_type": "stream",
     "text": [
      "[[ 0.     2.857]\n",
      " [ 5.714  8.571]\n",
      " [11.429 14.286]\n",
      " [17.143 20.   ]]\n"
     ]
    }
   ],
   "source": [
    "a= np.linspace(0,20,8).reshape(4,2)\n",
    "print(np.round_(a, decimals= 3))"
   ]
  },
  {
   "cell_type": "code",
   "execution_count": 1,
   "metadata": {},
   "outputs": [
    {
     "name": "stdout",
     "output_type": "stream",
     "text": [
      "Object `np.round_` not found.\n"
     ]
    }
   ],
   "source": []
  },
  {
   "cell_type": "code",
   "execution_count": null,
   "metadata": {},
   "outputs": [],
   "source": []
  }
 ],
 "metadata": {
  "kernelspec": {
   "display_name": "Python 3",
   "language": "python",
   "name": "python3"
  },
  "language_info": {
   "codemirror_mode": {
    "name": "ipython",
    "version": 3
   },
   "file_extension": ".py",
   "mimetype": "text/x-python",
   "name": "python",
   "nbconvert_exporter": "python",
   "pygments_lexer": "ipython3",
   "version": "3.7.1"
  }
 },
 "nbformat": 4,
 "nbformat_minor": 2
}
